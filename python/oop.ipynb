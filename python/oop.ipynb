{
 "cells": [
  {
   "cell_type": "markdown",
   "metadata": {},
   "source": [
    "# OOP in Python"
   ]
  },
  {
   "cell_type": "markdown",
   "metadata": {},
   "source": [
    "Object Oriented Programming: **programming paradigm that organizes and models data and behavior into objects.**"
   ]
  },
  {
   "cell_type": "markdown",
   "metadata": {},
   "source": [
    "##### Core Principle\n",
    "1. Encapsulation\n",
    "2. Inheritance\n",
    "3. Polymorphism\n",
    "4. Abstraction"
   ]
  },
  {
   "cell_type": "markdown",
   "metadata": {},
   "source": [
    "Why OOP?\n",
    "1. Modularity\n",
    "2. Code reuse\n",
    "3. Real world modeling\n",
    "4. Maintainability"
   ]
  },
  {
   "cell_type": "markdown",
   "metadata": {},
   "source": [
    "- Class\n",
    "- Object\n",
    "- Attributes\n",
    "- Methods\n",
    "- Magic methods (\\__init__, \\__str__, \\__add__, \\__del__)"
   ]
  },
  {
   "cell_type": "code",
   "execution_count": 5,
   "metadata": {},
   "outputs": [
    {
     "name": "stdout",
     "output_type": "stream",
     "text": [
      "Hello, World!\n"
     ]
    }
   ],
   "source": [
    "class Person:\n",
    "    \n",
    "    def say_hello(self):\n",
    "        print(\"Hello, World!\")\n",
    "\n",
    "\n",
    "p = Person()\n",
    "p.say_hello()"
   ]
  },
  {
   "cell_type": "code",
   "execution_count": 7,
   "metadata": {},
   "outputs": [
    {
     "name": "stdout",
     "output_type": "stream",
     "text": [
      "Hello, Ram\n"
     ]
    }
   ],
   "source": [
    "class Person:\n",
    "\n",
    "    name = \"Ram\"\n",
    "    \n",
    "    def say_hello(self):\n",
    "        print(f\"Hello, {self.name}\")\n",
    "\n",
    "\n",
    "p = Person()\n",
    "p.say_hello()"
   ]
  },
  {
   "cell_type": "code",
   "execution_count": 16,
   "metadata": {},
   "outputs": [
    {
     "name": "stdout",
     "output_type": "stream",
     "text": [
      "Hello, Ram\n",
      "<class '__main__.Person'>\n",
      "<__main__.Person object at 0x7b9ac7076900>\n",
      "None\n"
     ]
    }
   ],
   "source": [
    "class Person:\n",
    "\n",
    "    __name = \"Ram\"\n",
    "    \n",
    "    def say_hello(self):\n",
    "        print(f\"Hello, {self.__class__.__name}\")\n",
    "\n",
    "\n",
    "p = Person()\n",
    "p.say_hello()\n",
    "print(p.__class__)\n",
    "print(p)\n",
    "print(p.__doc__)"
   ]
  },
  {
   "cell_type": "code",
   "execution_count": 41,
   "metadata": {},
   "outputs": [
    {
     "name": "stdout",
     "output_type": "stream",
     "text": [
      "<class '__main__.Person'>\n",
      "\n",
      "This class represents a person.\n",
      "\n",
      "Hello, Ram\n",
      "Object with name Ram\n",
      "I am destructor.\n",
      "<class '__main__.Person'>\n",
      "\n",
      "This class represents a person.\n",
      "\n",
      "Hello, Hari\n",
      "Object with name Hari\n",
      "I am destructor.\n",
      "Object with name Object with name Hari\n",
      "I am destructor.\n",
      "Object with name Hari\n"
     ]
    }
   ],
   "source": [
    "class Person:\n",
    "    \"\"\" \n",
    "    This class represents a person.\n",
    "    \"\"\"\n",
    "\n",
    "    def __init__(self, name):\n",
    "        self.name = name\n",
    "    \n",
    "    def say_hello(self):\n",
    "        print(f\"Hello, {self.name}\")\n",
    "\n",
    "    def __str__(self):\n",
    "        return f\"Object with name {self.name}\"\n",
    "\n",
    "    # def __copy__(self, obj):\n",
    "    #     self.name = obj.name\n",
    "\n",
    "    def __del__(self):\n",
    "        print(\"I am destructor.\")\n",
    "\n",
    "\n",
    "p = Person(\"Ram\")\n",
    "print(p.__class__)\n",
    "print(p.__doc__)\n",
    "p.say_hello()\n",
    "print(p)\n",
    "\n",
    "del p\n",
    "\n",
    "p1 = Person(\"Hari\")\n",
    "print(p1.__class__)\n",
    "print(p1.__doc__)\n",
    "p1.say_hello()\n",
    "print(p1)\n",
    "\n",
    "p2 = Person(p1)\n",
    "print(p2)\n",
    "\n",
    "p3 = p1\n",
    "print(p3)"
   ]
  },
  {
   "cell_type": "code",
   "execution_count": 39,
   "metadata": {},
   "outputs": [
    {
     "name": "stdout",
     "output_type": "stream",
     "text": [
      "<class '__main__.Person'>\n",
      "\n",
      "This class represents a person.\n",
      "\n",
      "Hello, Ram\n",
      "Object with name Ram\n",
      "<class '__main__.Person'>\n",
      "\n",
      "This class represents a person.\n",
      "\n",
      "Hello, Hari\n",
      "Object with name Hari\n"
     ]
    }
   ],
   "source": [
    "persons = [Person(\"Ram\"), Person(\"Hari\")]\n",
    "for p in persons:\n",
    "    print(p.__class__)\n",
    "    print(p.__doc__)\n",
    "    p.say_hello()\n",
    "    print(p)"
   ]
  },
  {
   "cell_type": "code",
   "execution_count": 50,
   "metadata": {},
   "outputs": [
    {
     "name": "stdout",
     "output_type": "stream",
     "text": [
      "Supra: Toyota\n",
      "Made in 1999\n",
      "Supra: Toyota: 1999\n"
     ]
    }
   ],
   "source": [
    "class Vehicle:\n",
    "\n",
    "    def __init__(self, name, brand):\n",
    "        self.name = name\n",
    "        self.brand = brand\n",
    "\n",
    "    def showInfo(self):\n",
    "        print(f\"{self.name}: {self.brand}\")\n",
    "\n",
    "class Car(Vehicle):\n",
    "\n",
    "    def __init__(self, name, brand, year):\n",
    "        super().__init__(name, brand)\n",
    "        self.year = year\n",
    "\n",
    "    def showYear(self):\n",
    "        return print(f\"Made in {self.year}\")\n",
    "\n",
    "    def __str__(self):\n",
    "        return f\"{self.name}: {self.brand}: {self.year}\"\n",
    "\n",
    "\n",
    "car = Car(\"Supra\", \"Toyota\", 1999)\n",
    "car.showInfo()\n",
    "car.showYear()\n",
    "print(car)"
   ]
  },
  {
   "cell_type": "code",
   "execution_count": 51,
   "metadata": {},
   "outputs": [
    {
     "name": "stdout",
     "output_type": "stream",
     "text": [
      "9\n",
      "Hello World\n"
     ]
    }
   ],
   "source": [
    "a = 4\n",
    "b = 5\n",
    "\n",
    "c = \"Hello\"\n",
    "d = \"World\"\n",
    "\n",
    "print(a+b)\n",
    "print(c + ' ' + d)"
   ]
  },
  {
   "cell_type": "code",
   "execution_count": 52,
   "metadata": {},
   "outputs": [
    {
     "name": "stdout",
     "output_type": "stream",
     "text": [
      "Animal\n",
      "Cat\n"
     ]
    }
   ],
   "source": [
    "class Animal:\n",
    "    def info(self):\n",
    "        print(\"Animal\")\n",
    "\n",
    "class Cat(Animal):\n",
    "    def info(self):\n",
    "        print(\"Cat\")\n",
    "\n",
    "for obj in [Animal(), Cat()]:\n",
    "    obj.info()"
   ]
  },
  {
   "cell_type": "code",
   "execution_count": 53,
   "metadata": {},
   "outputs": [
    {
     "name": "stdout",
     "output_type": "stream",
     "text": [
      "Hello, World!\n"
     ]
    }
   ],
   "source": [
    "class Person:\n",
    "    \n",
    "    @staticmethod\n",
    "    def say_hello():\n",
    "        print(\"Hello, World!\")\n",
    "\n",
    "\n",
    "p = Person()\n",
    "p.say_hello()"
   ]
  }
 ],
 "metadata": {
  "kernelspec": {
   "display_name": "Python 3 (ipykernel)",
   "language": "python",
   "name": "python3"
  },
  "language_info": {
   "codemirror_mode": {
    "name": "ipython",
    "version": 3
   },
   "file_extension": ".py",
   "mimetype": "text/x-python",
   "name": "python",
   "nbconvert_exporter": "python",
   "pygments_lexer": "ipython3",
   "version": "3.13.1"
  }
 },
 "nbformat": 4,
 "nbformat_minor": 2
}
